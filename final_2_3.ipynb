{
  "nbformat": 4,
  "nbformat_minor": 0,
  "metadata": {
    "colab": {
      "name": "final_2_3.ipynb",
      "provenance": [],
      "collapsed_sections": []
    },
    "kernelspec": {
      "name": "python3",
      "display_name": "Python 3"
    },
    "language_info": {
      "name": "python"
    }
  },
  "cells": [
    {
      "cell_type": "markdown",
      "metadata": {
        "id": "ELkpsUQSq-L8"
      },
      "source": [
        "# Regression #"
      ]
    },
    {
      "cell_type": "code",
      "metadata": {
        "id": "R7KdcQBGyLtc"
      },
      "source": [
        "import os\n",
        "import numpy as np\n",
        "import pandas as pd\n",
        "data_gene = pd.read_csv('data_gene.csv', header=None)\n",
        "data_meth = pd.read_csv('data_meth.csv', header=None)"
      ],
      "execution_count": 145,
      "outputs": []
    },
    {
      "cell_type": "code",
      "metadata": {
        "id": "yocFxXCR0Zm4"
      },
      "source": [
        "avg_gene = pd.DataFrame.mean(data_gene, axis=1)"
      ],
      "execution_count": 146,
      "outputs": []
    },
    {
      "cell_type": "code",
      "metadata": {
        "id": "XKlRRuTo3d_w"
      },
      "source": [
        "from sklearn.model_selection import train_test_split\n",
        "meth_train, meth_test, gene_train, gene_test = train_test_split(data_meth, avg_gene, test_size=0.2, random_state=42)"
      ],
      "execution_count": 147,
      "outputs": []
    },
    {
      "cell_type": "code",
      "metadata": {
        "colab": {
          "base_uri": "https://localhost:8080/"
        },
        "id": "yCECiYzs2FqD",
        "outputId": "01c3a6e7-58ac-4e81-a943-481d7b67aa12"
      },
      "source": [
        "from sklearn.linear_model import LinearRegression\n",
        "from sklearn.metrics import mean_squared_error\n",
        "\n",
        "model = LinearRegression()\n",
        "model.fit(meth_train, gene_train)\n",
        "gene_pred = model.predict(meth_test)\n",
        "mse = mean_squared_error(gene_pred, gene_test)\n",
        "rmse = mse**0.5\n",
        "rmse"
      ],
      "execution_count": 148,
      "outputs": [
        {
          "output_type": "execute_result",
          "data": {
            "text/plain": [
              "1.2966712992717235"
            ]
          },
          "metadata": {
            "tags": []
          },
          "execution_count": 148
        }
      ]
    },
    {
      "cell_type": "code",
      "metadata": {
        "colab": {
          "base_uri": "https://localhost:8080/"
        },
        "id": "ICMFr0a93MKQ",
        "outputId": "0a876038-4b0a-40c8-ff4b-cd296dc8d893"
      },
      "source": [
        "r2 = model.score(meth_train, gene_train)\n",
        "r2"
      ],
      "execution_count": 149,
      "outputs": [
        {
          "output_type": "execute_result",
          "data": {
            "text/plain": [
              "0.38938876579986925"
            ]
          },
          "metadata": {
            "tags": []
          },
          "execution_count": 149
        }
      ]
    },
    {
      "cell_type": "code",
      "metadata": {
        "colab": {
          "base_uri": "https://localhost:8080/"
        },
        "id": "scIIYxqw2_Pq",
        "outputId": "15d2ee73-06de-45b2-a5d8-124fe22a5711"
      },
      "source": [
        "print(np.mean(avg_gene))\n",
        "print(np.std(avg_gene))"
      ],
      "execution_count": 150,
      "outputs": [
        {
          "output_type": "stream",
          "text": [
            "6.469304224898995\n",
            "1.6750265618165283\n"
          ],
          "name": "stdout"
        }
      ]
    },
    {
      "cell_type": "code",
      "metadata": {
        "colab": {
          "base_uri": "https://localhost:8080/"
        },
        "id": "ifUZdr-641Ig",
        "outputId": "ddf8185b-1799-45c4-a90b-d00c9ae141ac"
      },
      "source": [
        "from sklearn.decomposition import PCA\n",
        "\n",
        "pca_model = PCA(n_components=6)\n",
        "X2D = pca_model.fit_transform(data_meth)\n",
        "print(pca_model.explained_variance_ratio_)\n",
        "print(sum(pca_model.explained_variance_ratio_))\n",
        "\n",
        "meth_train_pca, meth_test_pca, gene_train, gene_test = train_test_split(X2D, avg_gene, test_size=0.2, random_state=42)"
      ],
      "execution_count": 151,
      "outputs": [
        {
          "output_type": "stream",
          "text": [
            "[0.77093694 0.02824144 0.02111458 0.01884707 0.01124364 0.01053162]\n",
            "0.860915281923988\n"
          ],
          "name": "stdout"
        }
      ]
    },
    {
      "cell_type": "code",
      "metadata": {
        "colab": {
          "base_uri": "https://localhost:8080/"
        },
        "id": "YYJ19qP051fp",
        "outputId": "37505ce2-59fe-4087-ca6b-5cfd61b55180"
      },
      "source": [
        "model.fit(meth_train_pca, gene_train)\n",
        "gene_pred_pca = model.predict(meth_test_pca)\n",
        "mse = mean_squared_error(gene_pred_pca, gene_test)\n",
        "rmse = mse**0.5\n",
        "rmse"
      ],
      "execution_count": 152,
      "outputs": [
        {
          "output_type": "execute_result",
          "data": {
            "text/plain": [
              "1.3225639300978704"
            ]
          },
          "metadata": {
            "tags": []
          },
          "execution_count": 152
        }
      ]
    },
    {
      "cell_type": "code",
      "metadata": {
        "colab": {
          "base_uri": "https://localhost:8080/"
        },
        "id": "c_pY6R1w6BW5",
        "outputId": "11980483-6c50-466e-a481-cd121e28ab1c"
      },
      "source": [
        "r2 = model.score(meth_train_pca, gene_train)\n",
        "r2"
      ],
      "execution_count": 153,
      "outputs": [
        {
          "output_type": "execute_result",
          "data": {
            "text/plain": [
              "0.35843468715747134"
            ]
          },
          "metadata": {
            "tags": []
          },
          "execution_count": 153
        }
      ]
    },
    {
      "cell_type": "markdown",
      "metadata": {
        "id": "-8uaPfyEq7IV"
      },
      "source": [
        "# Classification #"
      ]
    },
    {
      "cell_type": "markdown",
      "metadata": {
        "id": "tVUI4-8XQ6wF"
      },
      "source": [
        "# DNA Methylation #"
      ]
    },
    {
      "cell_type": "code",
      "metadata": {
        "id": "D3VPiGPbq9aa"
      },
      "source": [
        "data_gene_full = pd.DataFrame.transpose(pd.read_csv('data_gene_full.csv', header=None))\n",
        "data_meth_full = pd.DataFrame.transpose(pd.read_csv('data_meth_full.csv', header=None))\n",
        "data_protein = pd.DataFrame.transpose(pd.read_csv('data_protein.csv', header=None))\n",
        "invasive_gene = np.ravel(pd.DataFrame.to_numpy(pd.DataFrame.transpose(pd.read_csv('invasive_gene.csv', header=None))))\n",
        "invasive_meth = np.ravel(pd.DataFrame.to_numpy(pd.DataFrame.transpose(pd.read_csv('invasive_meth.csv', header=None))))\n",
        "invasive_prot = np.ravel(pd.DataFrame.to_numpy(pd.DataFrame.transpose(pd.read_csv('invasive_prot.csv', header=None))))"
      ],
      "execution_count": 154,
      "outputs": []
    },
    {
      "cell_type": "code",
      "metadata": {
        "colab": {
          "base_uri": "https://localhost:8080/"
        },
        "id": "Isi51SAUsJNV",
        "outputId": "61c6c898-8358-45c0-8318-d39a14a452e5"
      },
      "source": [
        "pca_model = PCA(n_components=33)\n",
        "X2D = pca_model.fit_transform(data_meth_full)\n",
        "print(pca_model.explained_variance_ratio_)\n",
        "print(sum(pca_model.explained_variance_ratio_))\n",
        "\n",
        "meth_train, meth_test, inv_meth_train, inv_meth_test = train_test_split(data_meth_full, invasive_meth, test_size=0.2, random_state=42)"
      ],
      "execution_count": 155,
      "outputs": [
        {
          "output_type": "stream",
          "text": [
            "[0.23058041 0.08358834 0.07529258 0.04195038 0.03980991 0.03389717\n",
            " 0.02861578 0.0266598  0.02412398 0.02272524 0.02160548 0.02031721\n",
            " 0.01992677 0.01917752 0.01865001 0.01802961 0.01757204 0.01704353\n",
            " 0.01671717 0.01615564 0.0151474  0.01510634 0.01413732 0.01375599\n",
            " 0.0132123  0.01283581 0.01265166 0.01207266 0.01175983 0.01111457\n",
            " 0.01058847 0.01050193 0.00981833]\n",
            "0.9551411845558064\n"
          ],
          "name": "stdout"
        }
      ]
    },
    {
      "cell_type": "markdown",
      "metadata": {
        "id": "-TeomMvPz5Rg"
      },
      "source": [
        "Stochastic Gradient Descent Classification"
      ]
    },
    {
      "cell_type": "code",
      "metadata": {
        "colab": {
          "base_uri": "https://localhost:8080/"
        },
        "id": "c0_8mJ6IvcOD",
        "outputId": "a62795ea-cfe9-4e2f-cd0b-968295d8d8a5"
      },
      "source": [
        "from sklearn.linear_model import SGDClassifier\n",
        "from sklearn.model_selection import cross_val_score\n",
        "from sklearn.metrics import confusion_matrix\n",
        "from sklearn.model_selection import cross_val_predict\n",
        "from sklearn.metrics import precision_score, recall_score, f1_score\n",
        "\n",
        "sgd_clf = SGDClassifier(max_iter=1000, tol=1e-3, random_state=42)\n",
        "sgd_clf.fit(meth_train, inv_meth_train)\n",
        "\n",
        "#cross_val = cross_val_score(sgd_clf, meth_train, inv_meth_train, cv=3, scoring=\"accuracy\")\n",
        "inv_train_pred = cross_val_predict(sgd_clf, meth_train, inv_meth_train, cv=3)\n",
        "print(confusion_matrix(inv_meth_train, inv_train_pred))\n",
        "print(precision_score(inv_meth_train, inv_train_pred))\n",
        "print(recall_score(inv_meth_train, inv_train_pred))\n",
        "print(f1_score(inv_meth_train, inv_train_pred))"
      ],
      "execution_count": 156,
      "outputs": [
        {
          "output_type": "stream",
          "text": [
            "[[23  0]\n",
            " [ 4  5]]\n",
            "1.0\n",
            "0.5555555555555556\n",
            "0.7142857142857143\n"
          ],
          "name": "stdout"
        }
      ]
    },
    {
      "cell_type": "code",
      "metadata": {
        "colab": {
          "base_uri": "https://localhost:8080/"
        },
        "id": "Nd44p3bNws-4",
        "outputId": "abacae3d-82c5-4272-9bf4-53eef6eb3a86"
      },
      "source": [
        "inv_pred = sgd_clf.predict(meth_test)\n",
        "print(confusion_matrix(inv_meth_test, inv_pred))\n",
        "print(precision_score(inv_meth_test, inv_pred))\n",
        "print(recall_score(inv_meth_test, inv_pred))\n",
        "print(f1_score(inv_meth_test, inv_pred))\n"
      ],
      "execution_count": 157,
      "outputs": [
        {
          "output_type": "stream",
          "text": [
            "[[8 0]\n",
            " [0 1]]\n",
            "1.0\n",
            "1.0\n",
            "1.0\n"
          ],
          "name": "stdout"
        }
      ]
    },
    {
      "cell_type": "markdown",
      "metadata": {
        "id": "DCiHnzOaz3Nq"
      },
      "source": [
        "Logistic regression"
      ]
    },
    {
      "cell_type": "code",
      "metadata": {
        "colab": {
          "base_uri": "https://localhost:8080/"
        },
        "id": "EBSXB0z-zaeN",
        "outputId": "d40c5806-3168-4561-a180-15a35c1057ee"
      },
      "source": [
        "from sklearn.linear_model import LogisticRegression\n",
        "log_reg = LogisticRegression(solver=\"lbfgs\", random_state=42)\n",
        "log_reg.fit(meth_train, inv_meth_train)\n",
        "\n",
        "inv_train_pred = cross_val_predict(log_reg, meth_train, inv_meth_train, cv=3)\n",
        "print(confusion_matrix(inv_meth_train, inv_train_pred))\n",
        "print(precision_score(inv_meth_train, inv_train_pred))\n",
        "print(recall_score(inv_meth_train, inv_train_pred))\n",
        "print(f1_score(inv_meth_train, inv_train_pred))"
      ],
      "execution_count": 158,
      "outputs": [
        {
          "output_type": "stream",
          "text": [
            "[[23  0]\n",
            " [ 0  9]]\n",
            "1.0\n",
            "1.0\n",
            "1.0\n"
          ],
          "name": "stdout"
        }
      ]
    },
    {
      "cell_type": "code",
      "metadata": {
        "colab": {
          "base_uri": "https://localhost:8080/"
        },
        "id": "gr-deE0dzwRK",
        "outputId": "9d01070c-3dde-43e3-a505-ce3480f8064f"
      },
      "source": [
        "inv_pred = log_reg.predict(meth_test)\n",
        "print(confusion_matrix(inv_meth_test, inv_pred))\n",
        "print(precision_score(inv_meth_test, inv_pred))\n",
        "print(recall_score(inv_meth_test, inv_pred))\n",
        "print(f1_score(inv_meth_test, inv_pred))"
      ],
      "execution_count": 159,
      "outputs": [
        {
          "output_type": "stream",
          "text": [
            "[[8 0]\n",
            " [0 1]]\n",
            "1.0\n",
            "1.0\n",
            "1.0\n"
          ],
          "name": "stdout"
        }
      ]
    },
    {
      "cell_type": "markdown",
      "metadata": {
        "id": "J4ECfotT0mYY"
      },
      "source": [
        "Decision Tree Classification"
      ]
    },
    {
      "cell_type": "code",
      "metadata": {
        "colab": {
          "base_uri": "https://localhost:8080/"
        },
        "id": "Pp5tJPlM0pPu",
        "outputId": "fc57c0d7-9d4e-4ef8-9d13-c718b4204102"
      },
      "source": [
        "from sklearn.tree import DecisionTreeClassifier\n",
        "\n",
        "dec_tree = DecisionTreeClassifier(max_depth=10)\n",
        "dec_tree.fit(meth_train, inv_meth_train)\n",
        "\n",
        "inv_train_pred = cross_val_predict(dec_tree, meth_train, inv_meth_train, cv=3)\n",
        "print(confusion_matrix(inv_meth_train, inv_train_pred))\n",
        "print(precision_score(inv_meth_train, inv_train_pred))\n",
        "print(recall_score(inv_meth_train, inv_train_pred))\n",
        "print(f1_score(inv_meth_train, inv_train_pred))"
      ],
      "execution_count": 160,
      "outputs": [
        {
          "output_type": "stream",
          "text": [
            "[[19  4]\n",
            " [ 3  6]]\n",
            "0.6\n",
            "0.6666666666666666\n",
            "0.631578947368421\n"
          ],
          "name": "stdout"
        }
      ]
    },
    {
      "cell_type": "code",
      "metadata": {
        "colab": {
          "base_uri": "https://localhost:8080/"
        },
        "id": "P0jdcGWC1LDu",
        "outputId": "bba32316-dc05-4345-99ae-b4e43bdbee2b"
      },
      "source": [
        "inv_pred = dec_tree.predict(meth_test)\n",
        "print(confusion_matrix(inv_meth_test, inv_pred))\n",
        "print(precision_score(inv_meth_test, inv_pred))\n",
        "print(recall_score(inv_meth_test, inv_pred))\n",
        "print(f1_score(inv_meth_test, inv_pred))"
      ],
      "execution_count": 161,
      "outputs": [
        {
          "output_type": "stream",
          "text": [
            "[[6 2]\n",
            " [0 1]]\n",
            "0.3333333333333333\n",
            "1.0\n",
            "0.5\n"
          ],
          "name": "stdout"
        }
      ]
    },
    {
      "cell_type": "markdown",
      "metadata": {
        "id": "ZZwMUbDu1RLx"
      },
      "source": [
        "Random Forest Classification"
      ]
    },
    {
      "cell_type": "code",
      "metadata": {
        "colab": {
          "base_uri": "https://localhost:8080/"
        },
        "id": "OWPwN1GH1dCa",
        "outputId": "d74b1734-6a6b-41db-c6ed-fce9004fef9d"
      },
      "source": [
        "from sklearn.ensemble import RandomForestClassifier\n",
        "\n",
        "rdm_for = RandomForestClassifier(max_depth=20)\n",
        "rdm_for.fit(meth_train, inv_meth_train)\n",
        "\n",
        "inv_train_pred = cross_val_predict(rdm_for, meth_train, inv_meth_train, cv=3)\n",
        "print(confusion_matrix(inv_meth_train, inv_train_pred))\n",
        "print(precision_score(inv_meth_train, inv_train_pred))\n",
        "print(recall_score(inv_meth_train, inv_train_pred))\n",
        "print(f1_score(inv_meth_train, inv_train_pred))"
      ],
      "execution_count": 162,
      "outputs": [
        {
          "output_type": "stream",
          "text": [
            "[[23  0]\n",
            " [ 4  5]]\n",
            "1.0\n",
            "0.5555555555555556\n",
            "0.7142857142857143\n"
          ],
          "name": "stdout"
        }
      ]
    },
    {
      "cell_type": "code",
      "metadata": {
        "colab": {
          "base_uri": "https://localhost:8080/"
        },
        "id": "MCvn3Xm310bP",
        "outputId": "ef997514-196c-43a9-9b16-53638d719666"
      },
      "source": [
        "inv_pred = rdm_for.predict(meth_test)\n",
        "print(confusion_matrix(inv_meth_test, inv_pred))\n",
        "print(precision_score(inv_meth_test, inv_pred))\n",
        "print(recall_score(inv_meth_test, inv_pred))\n",
        "print(f1_score(inv_meth_test, inv_pred))"
      ],
      "execution_count": 163,
      "outputs": [
        {
          "output_type": "stream",
          "text": [
            "[[8 0]\n",
            " [0 1]]\n",
            "1.0\n",
            "1.0\n",
            "1.0\n"
          ],
          "name": "stdout"
        }
      ]
    },
    {
      "cell_type": "markdown",
      "metadata": {
        "id": "KmS2oEW72ESX"
      },
      "source": [
        "Non-linear SVM"
      ]
    },
    {
      "cell_type": "code",
      "metadata": {
        "colab": {
          "base_uri": "https://localhost:8080/"
        },
        "id": "-4C4kXtX2b0k",
        "outputId": "9f4ec064-43d6-44b2-8f2c-4d4e7898a6b2"
      },
      "source": [
        "from sklearn.svm import SVC\n",
        "from sklearn.pipeline import Pipeline\n",
        "from sklearn.preprocessing import StandardScaler\n",
        "\n",
        "poly_kernel_svm_clf = Pipeline([\n",
        "        (\"scaler\", StandardScaler()),\n",
        "        (\"svm_clf\", SVC(kernel=\"poly\", degree=3, coef0=10, C=5))\n",
        "    ])\n",
        "poly_kernel_svm_clf.fit(meth_train, inv_meth_train)\n",
        "\n",
        "inv_train_pred = cross_val_predict(poly_kernel_svm_clf, meth_train, inv_meth_train, cv=3)\n",
        "print(confusion_matrix(inv_meth_train, inv_train_pred))\n",
        "print(precision_score(inv_meth_train, inv_train_pred))\n",
        "print(recall_score(inv_meth_train, inv_train_pred))\n",
        "print(f1_score(inv_meth_train, inv_train_pred))"
      ],
      "execution_count": 164,
      "outputs": [
        {
          "output_type": "stream",
          "text": [
            "[[23  0]\n",
            " [ 2  7]]\n",
            "1.0\n",
            "0.7777777777777778\n",
            "0.8750000000000001\n"
          ],
          "name": "stdout"
        }
      ]
    },
    {
      "cell_type": "code",
      "metadata": {
        "colab": {
          "base_uri": "https://localhost:8080/"
        },
        "id": "sduO-Jdg23mm",
        "outputId": "740dc311-6739-4ea7-d7b7-7cdbdc0a7f7e"
      },
      "source": [
        "inv_pred = poly_kernel_svm_clf.predict(meth_test)\n",
        "print(confusion_matrix(inv_meth_test, inv_pred))\n",
        "print(precision_score(inv_meth_test, inv_pred))\n",
        "print(recall_score(inv_meth_test, inv_pred))\n",
        "print(f1_score(inv_meth_test, inv_pred))"
      ],
      "execution_count": 165,
      "outputs": [
        {
          "output_type": "stream",
          "text": [
            "[[8 0]\n",
            " [0 1]]\n",
            "1.0\n",
            "1.0\n",
            "1.0\n"
          ],
          "name": "stdout"
        }
      ]
    },
    {
      "cell_type": "markdown",
      "metadata": {
        "id": "Z2EPe2s9zlcK"
      },
      "source": [
        "# Gene expression #"
      ]
    },
    {
      "cell_type": "code",
      "metadata": {
        "colab": {
          "base_uri": "https://localhost:8080/"
        },
        "id": "U8AguZTrs63F",
        "outputId": "87a6ff6d-abf6-48ea-ffeb-96a75f680c3e"
      },
      "source": [
        "pca_model = PCA(n_components=35)\n",
        "X2D = pca_model.fit_transform(data_gene_full)\n",
        "print(pca_model.explained_variance_ratio_)\n",
        "print(sum(pca_model.explained_variance_ratio_))\n",
        "\n",
        "gene_train, gene_test, inv_gene_train, inv_gene_test = train_test_split(data_gene_full, invasive_gene, test_size=0.2, random_state=42)"
      ],
      "execution_count": 166,
      "outputs": [
        {
          "output_type": "stream",
          "text": [
            "[0.20187772 0.08033251 0.05290564 0.04444638 0.04004594 0.03769164\n",
            " 0.02910541 0.02701745 0.02565244 0.02518004 0.02343103 0.02313629\n",
            " 0.02070333 0.02053692 0.01987141 0.01894142 0.01848458 0.01795077\n",
            " 0.01752556 0.01743424 0.01672067 0.01591204 0.01488009 0.01448517\n",
            " 0.01405302 0.01340756 0.01323407 0.01270981 0.01227557 0.0122496\n",
            " 0.01200381 0.01131424 0.01095561 0.01078171 0.01041441]\n",
            "0.9576681196204324\n"
          ],
          "name": "stdout"
        }
      ]
    },
    {
      "cell_type": "markdown",
      "metadata": {
        "id": "Ea7OFU8d-odP"
      },
      "source": [
        "Stochastic Gradient Descent Classification"
      ]
    },
    {
      "cell_type": "code",
      "metadata": {
        "colab": {
          "base_uri": "https://localhost:8080/"
        },
        "id": "1k4QTa-C-q0N",
        "outputId": "3d41f147-31dc-4847-c7b2-ddde610b5a80"
      },
      "source": [
        "sgd_clf.fit(gene_train, inv_gene_train)\n",
        "\n",
        "inv_train_pred = cross_val_predict(sgd_clf, gene_train, inv_gene_train, cv=3)\n",
        "print(confusion_matrix(inv_gene_train, inv_train_pred))\n",
        "print(precision_score(inv_gene_train, inv_train_pred))\n",
        "print(recall_score(inv_gene_train, inv_train_pred))\n",
        "print(f1_score(inv_gene_train, inv_train_pred))\n",
        "\n",
        "inv_pred = sgd_clf.predict(gene_test)\n",
        "print(confusion_matrix(inv_gene_test, inv_pred))\n",
        "print(precision_score(inv_gene_test, inv_pred))\n",
        "print(recall_score(inv_gene_test, inv_pred))\n",
        "print(f1_score(inv_gene_test, inv_pred))"
      ],
      "execution_count": 167,
      "outputs": [
        {
          "output_type": "stream",
          "text": [
            "[[24  0]\n",
            " [ 1  8]]\n",
            "1.0\n",
            "0.8888888888888888\n",
            "0.9411764705882353\n",
            "[[7 0]\n",
            " [0 2]]\n",
            "1.0\n",
            "1.0\n",
            "1.0\n"
          ],
          "name": "stdout"
        }
      ]
    },
    {
      "cell_type": "markdown",
      "metadata": {
        "id": "b3DTP2T__ES7"
      },
      "source": [
        "Logistic Regression"
      ]
    },
    {
      "cell_type": "code",
      "metadata": {
        "colab": {
          "base_uri": "https://localhost:8080/"
        },
        "id": "6A-wT2jt_FvR",
        "outputId": "1e1eb7ce-acf8-457a-8eac-1bc06f799063"
      },
      "source": [
        "log_reg.fit(gene_train, inv_gene_train)\n",
        "\n",
        "inv_train_pred = cross_val_predict(log_reg, gene_train, inv_gene_train, cv=3)\n",
        "print(confusion_matrix(inv_gene_train, inv_train_pred))\n",
        "print(precision_score(inv_gene_train, inv_train_pred))\n",
        "print(recall_score(inv_gene_train, inv_train_pred))\n",
        "print(f1_score(inv_gene_train, inv_train_pred))\n",
        "\n",
        "inv_pred = log_reg.predict(gene_test)\n",
        "print(inv_pred)\n",
        "print(confusion_matrix(inv_gene_test, inv_pred))\n",
        "print(precision_score(inv_gene_test, inv_pred))\n",
        "print(recall_score(inv_gene_test, inv_pred))\n",
        "print(f1_score(inv_gene_test, inv_pred))"
      ],
      "execution_count": 168,
      "outputs": [
        {
          "output_type": "stream",
          "text": [
            "[[23  1]\n",
            " [ 0  9]]\n",
            "0.9\n",
            "1.0\n",
            "0.9473684210526316\n",
            "[0 0 0 0 0 0 1 0 0]\n",
            "[[7 0]\n",
            " [1 1]]\n",
            "1.0\n",
            "0.5\n",
            "0.6666666666666666\n"
          ],
          "name": "stdout"
        }
      ]
    },
    {
      "cell_type": "markdown",
      "metadata": {
        "id": "bYxPmaRx_QN-"
      },
      "source": [
        "Decision Tree Classification"
      ]
    },
    {
      "cell_type": "code",
      "metadata": {
        "colab": {
          "base_uri": "https://localhost:8080/"
        },
        "id": "l2D4nlyB_RtG",
        "outputId": "24d37258-892f-4c7a-9c1c-9d5ba4ba252b"
      },
      "source": [
        "dec_tree.fit(gene_train, inv_gene_train)\n",
        "\n",
        "inv_train_pred = cross_val_predict(dec_tree, gene_train, inv_gene_train, cv=3)\n",
        "print(confusion_matrix(inv_gene_train, inv_train_pred))\n",
        "print(precision_score(inv_gene_train, inv_train_pred))\n",
        "print(recall_score(inv_gene_train, inv_train_pred))\n",
        "print(f1_score(inv_gene_train, inv_train_pred))\n",
        "\n",
        "inv_pred = dec_tree.predict(gene_test)\n",
        "print(inv_pred)\n",
        "print(confusion_matrix(inv_gene_test, inv_pred))\n",
        "print(precision_score(inv_gene_test, inv_pred))\n",
        "print(recall_score(inv_gene_test, inv_pred))\n",
        "print(f1_score(inv_gene_test, inv_pred))"
      ],
      "execution_count": 169,
      "outputs": [
        {
          "output_type": "stream",
          "text": [
            "[[20  4]\n",
            " [ 2  7]]\n",
            "0.6363636363636364\n",
            "0.7777777777777778\n",
            "0.7000000000000001\n",
            "[0 0 0 0 0 0 1 0 1]\n",
            "[[7 0]\n",
            " [0 2]]\n",
            "1.0\n",
            "1.0\n",
            "1.0\n"
          ],
          "name": "stdout"
        }
      ]
    },
    {
      "cell_type": "markdown",
      "metadata": {
        "id": "m8ItPdKY_ZSe"
      },
      "source": [
        "Random Forest Classification"
      ]
    },
    {
      "cell_type": "code",
      "metadata": {
        "colab": {
          "base_uri": "https://localhost:8080/"
        },
        "id": "YvdaH9Ng_bJo",
        "outputId": "67b2afc9-8a26-4135-f8bf-96505a492070"
      },
      "source": [
        "rdm_for.fit(gene_train, inv_gene_train)\n",
        "\n",
        "inv_train_pred = cross_val_predict(rdm_for, gene_train, inv_gene_train, cv=3)\n",
        "print(confusion_matrix(inv_gene_train, inv_train_pred))\n",
        "print(precision_score(inv_gene_train, inv_train_pred))\n",
        "print(recall_score(inv_gene_train, inv_train_pred))\n",
        "print(f1_score(inv_gene_train, inv_train_pred))\n",
        "\n",
        "inv_pred = rdm_for.predict(gene_test)\n",
        "print(confusion_matrix(inv_gene_test, inv_pred))\n",
        "print(precision_score(inv_gene_test, inv_pred))\n",
        "print(recall_score(inv_gene_test, inv_pred))\n",
        "print(f1_score(inv_gene_test, inv_pred))"
      ],
      "execution_count": 170,
      "outputs": [
        {
          "output_type": "stream",
          "text": [
            "[[24  0]\n",
            " [ 1  8]]\n",
            "1.0\n",
            "0.8888888888888888\n",
            "0.9411764705882353\n",
            "[[7 0]\n",
            " [2 0]]\n",
            "0.0\n",
            "0.0\n",
            "0.0\n"
          ],
          "name": "stdout"
        },
        {
          "output_type": "stream",
          "text": [
            "/usr/local/lib/python3.7/dist-packages/sklearn/metrics/_classification.py:1272: UndefinedMetricWarning: Precision is ill-defined and being set to 0.0 due to no predicted samples. Use `zero_division` parameter to control this behavior.\n",
            "  _warn_prf(average, modifier, msg_start, len(result))\n"
          ],
          "name": "stderr"
        }
      ]
    },
    {
      "cell_type": "markdown",
      "metadata": {
        "id": "8Qn9xEQ__tHi"
      },
      "source": [
        "Non-linear SVM"
      ]
    },
    {
      "cell_type": "code",
      "metadata": {
        "colab": {
          "base_uri": "https://localhost:8080/"
        },
        "id": "n1XA1Ukc_udu",
        "outputId": "1a1541d3-b9cc-475d-becb-1e6316883420"
      },
      "source": [
        "poly_kernel_svm_clf.fit(gene_train, inv_gene_train)\n",
        "\n",
        "inv_train_pred = cross_val_predict(poly_kernel_svm_clf, gene_train, inv_gene_train, cv=3)\n",
        "print(confusion_matrix(inv_gene_train, inv_train_pred))\n",
        "print(precision_score(inv_gene_train, inv_train_pred))\n",
        "print(recall_score(inv_gene_train, inv_train_pred))\n",
        "print(f1_score(inv_gene_train, inv_train_pred))\n",
        "\n",
        "inv_pred = poly_kernel_svm_clf.predict(gene_test)\n",
        "print(inv_pred)\n",
        "print(confusion_matrix(inv_gene_test, inv_pred))\n",
        "print(precision_score(inv_gene_test, inv_pred))\n",
        "print(recall_score(inv_gene_test, inv_pred))\n",
        "print(f1_score(inv_gene_test, inv_pred))"
      ],
      "execution_count": 171,
      "outputs": [
        {
          "output_type": "stream",
          "text": [
            "[[23  1]\n",
            " [ 0  9]]\n",
            "0.9\n",
            "1.0\n",
            "0.9473684210526316\n",
            "[0 0 0 0 0 0 1 0 0]\n",
            "[[7 0]\n",
            " [1 1]]\n",
            "1.0\n",
            "0.5\n",
            "0.6666666666666666\n"
          ],
          "name": "stdout"
        }
      ]
    },
    {
      "cell_type": "markdown",
      "metadata": {
        "id": "hJUrg0Pk__eR"
      },
      "source": [
        "# Protein Expression #"
      ]
    },
    {
      "cell_type": "code",
      "metadata": {
        "colab": {
          "base_uri": "https://localhost:8080/"
        },
        "id": "LgT2eDHGABMX",
        "outputId": "796e57c5-49f0-49d8-80f5-dfc21a4831a9"
      },
      "source": [
        "pca_model = PCA(n_components=23)\n",
        "X2D = pca_model.fit_transform(data_protein)\n",
        "print(pca_model.explained_variance_ratio_)\n",
        "print(sum(pca_model.explained_variance_ratio_))\n",
        "\n",
        "prot_train, prot_test, inv_prot_train, inv_prot_test = train_test_split(data_protein, invasive_prot, test_size=0.2, random_state=42)"
      ],
      "execution_count": 172,
      "outputs": [
        {
          "output_type": "stream",
          "text": [
            "[0.32483031 0.11520812 0.07751424 0.05986119 0.04680208 0.04219798\n",
            " 0.03380475 0.03173915 0.02968572 0.0264308  0.02369654 0.01964152\n",
            " 0.01811987 0.01651275 0.0139744  0.01273616 0.01182936 0.0103401\n",
            " 0.00960399 0.00876052 0.00818147 0.00687069 0.00640003]\n",
            "0.9547417579575342\n"
          ],
          "name": "stdout"
        }
      ]
    },
    {
      "cell_type": "markdown",
      "metadata": {
        "id": "L-73S0vTAID9"
      },
      "source": [
        "Stochastic Gradient Descent Classification"
      ]
    },
    {
      "cell_type": "code",
      "metadata": {
        "colab": {
          "base_uri": "https://localhost:8080/"
        },
        "id": "Bdn59DZSAKdT",
        "outputId": "2ac423b8-8965-47e8-a73c-3687d9fe2cb6"
      },
      "source": [
        "sgd_clf.fit(prot_train, inv_prot_train)\n",
        "\n",
        "inv_train_pred = cross_val_predict(sgd_clf, prot_train, inv_prot_train, cv=3)\n",
        "print(confusion_matrix(inv_prot_train, inv_train_pred))\n",
        "print(precision_score(inv_prot_train, inv_train_pred))\n",
        "print(recall_score(inv_prot_train, inv_train_pred))\n",
        "print(f1_score(inv_prot_train, inv_train_pred))\n",
        "\n",
        "inv_pred = sgd_clf.predict(prot_test)\n",
        "print(confusion_matrix(inv_prot_test, inv_pred))\n",
        "print(precision_score(inv_prot_test, inv_pred))\n",
        "print(recall_score(inv_prot_test, inv_pred))\n",
        "print(f1_score(inv_prot_test, inv_pred))"
      ],
      "execution_count": 173,
      "outputs": [
        {
          "output_type": "stream",
          "text": [
            "[[15  5]\n",
            " [ 1  8]]\n",
            "0.6153846153846154\n",
            "0.8888888888888888\n",
            "0.7272727272727274\n",
            "[[6 0]\n",
            " [0 2]]\n",
            "1.0\n",
            "1.0\n",
            "1.0\n"
          ],
          "name": "stdout"
        }
      ]
    },
    {
      "cell_type": "markdown",
      "metadata": {
        "id": "Ojo-Vo_tAbmD"
      },
      "source": [
        "Logistic Regression"
      ]
    },
    {
      "cell_type": "code",
      "metadata": {
        "colab": {
          "base_uri": "https://localhost:8080/"
        },
        "id": "ovhXhw0YAlII",
        "outputId": "dd4d549a-84b2-4413-c324-e96d588822ac"
      },
      "source": [
        "log_reg.fit(prot_train, inv_prot_train)\n",
        "\n",
        "inv_train_pred = cross_val_predict(log_reg, prot_train, inv_prot_train, cv=3)\n",
        "print(confusion_matrix(inv_prot_train, inv_train_pred))\n",
        "print(precision_score(inv_prot_train, inv_train_pred))\n",
        "print(recall_score(inv_prot_train, inv_train_pred))\n",
        "print(f1_score(inv_prot_train, inv_train_pred))\n",
        "\n",
        "inv_pred = log_reg.predict(prot_test)\n",
        "print(confusion_matrix(inv_prot_test, inv_pred))\n",
        "print(precision_score(inv_prot_test, inv_pred))\n",
        "print(recall_score(inv_prot_test, inv_pred))\n",
        "print(f1_score(inv_prot_test, inv_pred))"
      ],
      "execution_count": 174,
      "outputs": [
        {
          "output_type": "stream",
          "text": [
            "[[20  0]\n",
            " [ 1  8]]\n",
            "1.0\n",
            "0.8888888888888888\n",
            "0.9411764705882353\n",
            "[[6 0]\n",
            " [0 2]]\n",
            "1.0\n",
            "1.0\n",
            "1.0\n"
          ],
          "name": "stdout"
        }
      ]
    },
    {
      "cell_type": "markdown",
      "metadata": {
        "id": "ZcMIW8agArfs"
      },
      "source": [
        "Decision Tree Classification"
      ]
    },
    {
      "cell_type": "code",
      "metadata": {
        "colab": {
          "base_uri": "https://localhost:8080/"
        },
        "id": "68yqm0bBAtID",
        "outputId": "93ac69d2-5e67-4d20-c8fb-36ae988500bd"
      },
      "source": [
        "dec_tree.fit(prot_train, inv_prot_train)\n",
        "\n",
        "inv_train_pred = cross_val_predict(dec_tree, prot_train, inv_prot_train, cv=3)\n",
        "print(confusion_matrix(inv_prot_train, inv_train_pred))\n",
        "print(precision_score(inv_prot_train, inv_train_pred))\n",
        "print(recall_score(inv_prot_train, inv_train_pred))\n",
        "print(f1_score(inv_prot_train, inv_train_pred))\n",
        "\n",
        "inv_pred = dec_tree.predict(prot_test)\n",
        "print(confusion_matrix(inv_prot_test, inv_pred))\n",
        "print(precision_score(inv_prot_test, inv_pred))\n",
        "print(recall_score(inv_prot_test, inv_pred))\n",
        "print(f1_score(inv_prot_test, inv_pred))"
      ],
      "execution_count": 175,
      "outputs": [
        {
          "output_type": "stream",
          "text": [
            "[[18  2]\n",
            " [ 4  5]]\n",
            "0.7142857142857143\n",
            "0.5555555555555556\n",
            "0.6250000000000001\n",
            "[[6 0]\n",
            " [0 2]]\n",
            "1.0\n",
            "1.0\n",
            "1.0\n"
          ],
          "name": "stdout"
        }
      ]
    },
    {
      "cell_type": "markdown",
      "metadata": {
        "id": "IbVhqhPOAzp8"
      },
      "source": [
        "Random Forest Classification"
      ]
    },
    {
      "cell_type": "code",
      "metadata": {
        "colab": {
          "base_uri": "https://localhost:8080/"
        },
        "id": "ENGY09GyA2Tx",
        "outputId": "26be7979-2885-4489-c858-b288c6bd6065"
      },
      "source": [
        "rdm_for.fit(prot_train, inv_prot_train)\n",
        "\n",
        "inv_train_pred = cross_val_predict(rdm_for, prot_train, inv_prot_train, cv=3)\n",
        "print(confusion_matrix(inv_prot_train, inv_train_pred))\n",
        "print(precision_score(inv_prot_train, inv_train_pred))\n",
        "print(recall_score(inv_prot_train, inv_train_pred))\n",
        "print(f1_score(inv_prot_train, inv_train_pred))\n",
        "\n",
        "inv_pred = rdm_for.predict(prot_test)\n",
        "print(confusion_matrix(inv_prot_test, inv_pred))\n",
        "print(precision_score(inv_prot_test, inv_pred))\n",
        "print(recall_score(inv_prot_test, inv_pred))\n",
        "print(f1_score(inv_prot_test, inv_pred))"
      ],
      "execution_count": 176,
      "outputs": [
        {
          "output_type": "stream",
          "text": [
            "[[19  1]\n",
            " [ 3  6]]\n",
            "0.8571428571428571\n",
            "0.6666666666666666\n",
            "0.75\n",
            "[[6 0]\n",
            " [0 2]]\n",
            "1.0\n",
            "1.0\n",
            "1.0\n"
          ],
          "name": "stdout"
        }
      ]
    },
    {
      "cell_type": "markdown",
      "metadata": {
        "id": "XlbF6TwFA9PG"
      },
      "source": [
        "Non-linear SVM"
      ]
    },
    {
      "cell_type": "code",
      "metadata": {
        "colab": {
          "base_uri": "https://localhost:8080/"
        },
        "id": "Q46W6vP3A-jT",
        "outputId": "185eeb95-3a0b-425e-d79f-927029b292f9"
      },
      "source": [
        "poly_kernel_svm_clf.fit(prot_train, inv_prot_train)\n",
        "\n",
        "inv_train_pred = cross_val_predict(poly_kernel_svm_clf, prot_train, inv_prot_train, cv=3)\n",
        "print(confusion_matrix(inv_prot_train, inv_train_pred))\n",
        "print(precision_score(inv_prot_train, inv_train_pred))\n",
        "print(recall_score(inv_prot_train, inv_train_pred))\n",
        "print(f1_score(inv_prot_train, inv_train_pred))\n",
        "\n",
        "inv_pred = poly_kernel_svm_clf.predict(prot_test)\n",
        "print(confusion_matrix(inv_prot_test, inv_pred))\n",
        "print(precision_score(inv_prot_test, inv_pred))\n",
        "print(recall_score(inv_prot_test, inv_pred))\n",
        "print(f1_score(inv_prot_test, inv_pred))"
      ],
      "execution_count": 177,
      "outputs": [
        {
          "output_type": "stream",
          "text": [
            "[[19  1]\n",
            " [ 1  8]]\n",
            "0.8888888888888888\n",
            "0.8888888888888888\n",
            "0.8888888888888888\n",
            "[[6 0]\n",
            " [0 2]]\n",
            "1.0\n",
            "1.0\n",
            "1.0\n"
          ],
          "name": "stdout"
        }
      ]
    }
  ]
}